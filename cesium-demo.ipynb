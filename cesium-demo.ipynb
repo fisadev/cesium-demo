{
 "cells": [
  {
   "cell_type": "markdown",
   "metadata": {},
   "source": [
    "# Dependencies\n",
    "\n",
    "This demo uses three main libs (aside from jupyter notebooks):\n",
    "\n",
    "- Czml3: a lib made by Juan Luis Cano, to generate Cesium data from Python in CZML format ([more info](https://github.com/poliastro/czml3))\n",
    "- Telluric: a lib from Satellogic, to work with geospatial data ([docs](https://telluric.readthedocs.io/en/latest/))\n",
    "- Orbit-predictor: a lib from Satellogic, to work with orbital data ([more info](https://github.com/satellogic/orbit-predictor))"
   ]
  },
  {
   "cell_type": "code",
   "execution_count": null,
   "metadata": {
    "scrolled": true
   },
   "outputs": [],
   "source": [
    "!pip install czml3 telluric orbit-predictor"
   ]
  },
  {
   "cell_type": "code",
   "execution_count": 3,
   "metadata": {},
   "outputs": [],
   "source": [
    "from orbit_predictor.sources import get_predictor_from_tle_lines\n",
    "from telluric import GeoVector, GeoFeature, FeatureCollection\n",
    "from czml3.widget import CZMLWidget"
   ]
  },
  {
   "cell_type": "code",
   "execution_count": 4,
   "metadata": {},
   "outputs": [
    {
     "data": {
      "text/html": [
       "\n",
       "<link rel=\"stylesheet\" href=\"https://cesium.com/downloads/cesiumjs/releases/1.64/Build/Cesium/Widgets/widgets.css\" type=\"text/css\">\n",
       "<div id=\"cesiumContainer-7104c486-6062-48c5-b499-3f0ea489fb1f\" style=\"width:100%; height:100%;\"></div>\n",
       "<script type=\"text/javascript\">\n",
       "\n",
       "require.config({\n",
       "    paths: {\n",
       "        'cesium': 'https://cesium.com/downloads/cesiumjs/releases/1.64/Build/Cesium/Cesium'\n",
       "    }\n",
       "});\n",
       "\n",
       "// Set this global variable to avoid problems with non-local Jupyter deployments\n",
       "// Basically this line:\n",
       "// https://github.com/AnalyticalGraphicsInc/cesium/blob/1.64/Source/Core/buildModuleUrl.js#L13\n",
       "// Fails because of this:\n",
       "// https://github.com/jupyter/notebook/blob/6.0.2/notebook/templates/page.html#L25-L27\n",
       "// Also, finding out about CESIUM_BASE_URL was not very straightforward,\n",
       "// see https://github.com/AnalyticalGraphicsInc/cesium/issues/8327\n",
       "var CESIUM_BASE_URL = 'https://cesium.com/downloads/cesiumjs/releases/1.64/Build/Cesium/'\n",
       "\n",
       "require(['cesium'], function (Cesium) {\n",
       "    var czml = [{\"id\": \"document\", \"version\": \"1.0\"}];\n",
       "\n",
       "    var ion_token = '';\n",
       "    if (ion_token !== '') {\n",
       "        Cesium.Ion.defaultAccessToken = ion_token;\n",
       "    }\n",
       "    var viewer = new Cesium.Viewer('cesiumContainer-7104c486-6062-48c5-b499-3f0ea489fb1f', {\n",
       "        shouldAnimate : true\n",
       "    });\n",
       "\n",
       "    // To have an inertial (ICRF) view\n",
       "    function icrf(scene, time) {\n",
       "        var icrfToFixed = Cesium.Transforms.computeIcrfToFixedMatrix(time);\n",
       "        if (Cesium.defined(icrfToFixed)) {\n",
       "            var camera = viewer.camera;\n",
       "            var offset = Cesium.Cartesian3.clone(camera.position);\n",
       "            var transform = Cesium.Matrix4.fromRotationTranslation(icrfToFixed);\n",
       "            camera.lookAtTransform(transform, offset);\n",
       "        }\n",
       "    }\n",
       "    // Temporarily disable inertial view\n",
       "    // until we make it work with 2D Mercator view\n",
       "    // and fix the zoom sensitivity, see\n",
       "    // https://groups.google.com/d/msg/cesium-dev/vuXmepd4T2E/i71tq2I8EAAJ\n",
       "    // viewer.scene.postUpdate.addEventListener(icrf);\n",
       "\n",
       "    viewer.camera.flyHome(0);\n",
       "    viewer.scene.globe.enableLighting = true;\n",
       "\n",
       "    viewer.dataSources.add(Cesium.CzmlDataSource.load(czml));\n",
       "});\n",
       "\n",
       "</script>"
      ],
      "text/plain": [
       "CZMLWidget(document=[\n",
       "    {\n",
       "        \"id\": \"document\",\n",
       "        \"version\": \"1.0\"\n",
       "    }\n",
       "], cesium_version='1.64', ion_token='', _container_id=UUID('7104c486-6062-48c5-b499-3f0ea489fb1f'))"
      ]
     },
     "execution_count": 4,
     "metadata": {},
     "output_type": "execute_result"
    }
   ],
   "source": [
    "CZMLWidget()"
   ]
  },
  {
   "cell_type": "code",
   "execution_count": null,
   "metadata": {},
   "outputs": [],
   "source": []
  }
 ],
 "metadata": {
  "kernelspec": {
   "display_name": "Python 3",
   "language": "python",
   "name": "python3"
  },
  "language_info": {
   "codemirror_mode": {
    "name": "ipython",
    "version": 3
   },
   "file_extension": ".py",
   "mimetype": "text/x-python",
   "name": "python",
   "nbconvert_exporter": "python",
   "pygments_lexer": "ipython3",
   "version": "3.7.5"
  }
 },
 "nbformat": 4,
 "nbformat_minor": 2
}
